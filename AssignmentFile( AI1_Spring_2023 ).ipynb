{
  "cells": [
    {
      "cell_type": "markdown",
      "id": "ed93d610",
      "metadata": {
        "id": "ed93d610"
      },
      "source": [
        "# Deep_Learning 2023_Spring_Assignment_AI1\n",
        "\n",
        "## 0.1 ITNPAI1 - Deep Learning for Vision and NLP (2022/3)\n",
        "\n"
      ]
    },
    {
      "cell_type": "markdown",
      "id": "acd89193",
      "metadata": {
        "id": "acd89193"
      },
      "source": [
        "### Assignment Summary\n",
        "In this activity, you are required to apply the knowledge acquired in this module through the design\n",
        "and development of a complete project for deep learning-based image pattern recognition in an\n",
        "application to be defined by yourself. For this, you will need to perform the following mandatory\n",
        "steps:\n",
        "1. Problem definition\n",
        "2. GitHub repository\n",
        "3. Dataset\n",
        "4. Dataloader\n",
        "5. Proposed solution\n",
        "6. Experimental tests and evaluations\n",
        "7. Quiz and Report\n",
        "8. Demonstration session\n"
      ]
    },
    {
      "cell_type": "markdown",
      "id": "a81bcaec",
      "metadata": {
        "id": "a81bcaec"
      },
      "source": [
        "### 1. Problem definition\n",
        "You must choose a computer vision task (classification, detection, semantic segmentation, captioning, geotagging, etc) to be modeled from images collected in the context of two different cities (A\n",
        "and B). - If the work is being carried out in pairs, cities A and B must be the hometowns of\n",
        "each student. In the case of individual work, city A must be your hometown and city B must be\n",
        "Stirling (or Edinburgh, if needed). - The standard project recommendation is to focus on recognizing cars or trees, which are easier to identify and annotate. Other objects or phenomena can be\n",
        "adopted, but are subject to prior approval by the module instructor (Jefersson A. dos Santos). It\n",
        "is not allowed to assemble datasets containing people. Other sensitive patterns, such\n",
        "as license plates, must be properly hidden. - Don’t panic! We are aware that acquiring\n",
        "images in situ is an impediment for most students. The dataset can be assembled with images\n",
        "collected remotely or from public repositories. Just be careful with rights and permissions for using\n",
        "images found on the internet. Anyway, these factors must be taken into account for the problem definition. - Think of interesting problems, but that are easy to assemble an image dataset.\n",
        "1\n",
        "Although we encourage you to do interesting and engaging work, it shouldn’t be too complex or\n",
        "time-consuming. Try to appropriately scale the time required for this step. Ask the instructors for\n",
        "advice, if necessary"
      ]
    },
    {
      "cell_type": "markdown",
      "id": "e1ee832b",
      "metadata": {
        "id": "e1ee832b"
      },
      "source": [
        "### 2. GitHub repository\n",
        "Give your project a name, create a private GitHub repository with the name [Module Code] +\n",
        "[Project Name] and give access to the module instructors. Create a cover page with a description\n",
        "of your project. This empty notebook must be uploaded in the repository as well as the created\n",
        "dataset. The checkpoint date to perform this task will be two weeks after the publication of this\n",
        "notebook. This notebook should be updated and committed to the repository according to the\n",
        "checkpoint dates. The repository’s update history will be used as a criterion for monitoring and\n",
        "evaluating the work. Check the videos provided in the extra section on Canvas for more\n",
        "details on how to create your GitHub repository.\n"
      ]
    },
    {
      "cell_type": "markdown",
      "id": "4ec1a8e8",
      "metadata": {
        "id": "4ec1a8e8"
      },
      "source": [
        "### 3. Dataset creation\n",
        "You must collect a minimum of 200 positive samples from the study objects for each city (A\n",
        "and B). Note that, depending on the task being solved, it will also be necessary to:\n",
        "\n",
        "       (i) collect more samples - negative ones, for instance;\n",
        "       (ii) annotating each image, delineating objects or creating bounding boxes. Planning and executing this correctly is                 important to ensure effective training of deep learning-based models.\n",
        "Your dataset can be assembled from one or more of the following ways:\n",
        "\n",
        "    • M1 - Pictures taken by yourself on site (street view from cities A and B), with attention\n",
        "      to anonymization issues (if it is the case). It is not allowed to assemble datasets containing\n",
        "      people. Other sensitive patterns, such as license plates, must be properly hidden.\n",
        "      \n",
        "    • M2 - Aerial satellite/drone images obtained from GIS and remote sensing platforms or public\n",
        "      repositories. Be careful with unusual file formats that may be challenging to manipulate using\n",
        "      basic image processing libraries. We recommend keeping or converting the images to jpg or png.\n",
        "    \n",
        "    • M3 - Pictures taken from other public available datasets. Remember you are not allowed to use datasets containing \n",
        "      people or other sensitive patterns/objects.\n",
        "    \n",
        "    • M4 - Images crawled from the internet as a whole (social networks, webpages, etc), with special attention to use \n",
        "      and copyrights.\n",
        "      \n",
        "    • M5 - Textual and metadata you may need in your project, with special attention to use and copyrights (as always!).\n",
        "\n",
        "Important: If you collect the images on your own or from aerial imagery repositories, it will be\n",
        "necessary to keep the geographic coordinates. If you collect from specific websites, please retain\n",
        "the source links. This information should be placed in a .csv file and made available along with the\n",
        "final dataset.\n"
      ]
    },
    {
      "cell_type": "markdown",
      "id": "6bf0ebf1",
      "metadata": {
        "id": "6bf0ebf1"
      },
      "source": [
        "### 4. Dataloader\n",
        "Here you are required to implement all the code related to pre-processing, cleaning, de-noising and\n",
        "preparing the input images and metadata according to the necessary data structures as input to\n",
        "your pattern recognition module. We recommend using PyTorch (https://pytorch.org/tutorials/beginner/basics/data_tutorial.html) or Tensorflow (with Keras) (https://keras.io/getting_started/intro_to_keras_for_engineers/) as a\n",
        "base, but you are free to use any library or platform as long as it is well justified in the final report."
      ]
    },
    {
      "cell_type": "markdown",
      "source": [
        "#### Using Necessary Libraries"
      ],
      "metadata": {
        "id": "RsbNWqO213at"
      },
      "id": "RsbNWqO213at"
    },
    {
      "cell_type": "code",
      "execution_count": 8,
      "id": "5ae60ee3",
      "metadata": {
        "id": "5ae60ee3"
      },
      "outputs": [],
      "source": [
        "from keras.layers import Dense, Conv2D , MaxPool2D , Flatten , Dropout \n",
        "from sklearn.metrics import classification_report,confusion_matrix\n",
        "from keras.preprocessing.image import ImageDataGenerator\n",
        "from keras.models import Sequential\n",
        "from keras.optimizers import Adam\n",
        "import matplotlib.pyplot as plt\n",
        "import tensorflow as tf\n",
        "import seaborn as sns\n",
        "import numpy as np\n",
        "import keras\n",
        "import cv2\n",
        "import os\n",
        "import warnings\n",
        "warnings.filterwarnings('ignore')"
      ]
    },
    {
      "cell_type": "markdown",
      "source": [
        "#### Converting images to array\n",
        "first resizing both classes images to 256 X 256 size and then converting images of train and validation data to array using \"OpenCV\", the array contain image array and it's class (car class to 0 value and tree class to 1 value )"
      ],
      "metadata": {
        "id": "eSBG54b5-sqE"
      },
      "id": "eSBG54b5-sqE"
    },
    {
      "cell_type": "code",
      "source": [
        "labels = ['cars', 'trees']\n",
        "img_size = 256\n",
        "def get_data(data_dir):\n",
        "    data = [] \n",
        "    for label in labels: \n",
        "        path = os.path.join(data_dir, label)\n",
        "        class_num = labels.index(label)\n",
        "        for img in os.listdir(path):\n",
        "            try:\n",
        "                img_arr = cv2.imread(os.path.join(path, img))[...,::-1] #convert BGR to RGB format\n",
        "                resized_arr = cv2.resize(img_arr, (img_size, img_size)) # Reshaping images to preferred size\n",
        "                data.append([resized_arr, class_num])\n",
        "            except Exception as e:\n",
        "                print(e)\n",
        "    return np.array(data)"
      ],
      "metadata": {
        "id": "p0kabrR79cVf"
      },
      "id": "p0kabrR79cVf",
      "execution_count": 3,
      "outputs": []
    },
    {
      "cell_type": "code",
      "source": [
        "train = get_data('/content/drive/MyDrive/dataset/train')\n",
        "val = get_data('../content/drive/MyDrive/dataset/val')\n",
        "print(\"Images converted to array\")"
      ],
      "metadata": {
        "colab": {
          "base_uri": "https://localhost:8080/"
        },
        "id": "biWpa7h--f_X",
        "outputId": "379d56df-d7dc-4bdf-f630-7580248fe5fc"
      },
      "id": "biWpa7h--f_X",
      "execution_count": 13,
      "outputs": [
        {
          "output_type": "stream",
          "name": "stdout",
          "text": [
            "Images converted to array\n"
          ]
        }
      ]
    },
    {
      "cell_type": "code",
      "source": [
        "# Car array \n",
        "print('******** Car array with class ********')\n",
        "train[0]"
      ],
      "metadata": {
        "colab": {
          "base_uri": "https://localhost:8080/"
        },
        "id": "6s15qlNN_srt",
        "outputId": "fc51a122-a7b9-48b3-89bf-afe616e1952c"
      },
      "id": "6s15qlNN_srt",
      "execution_count": 16,
      "outputs": [
        {
          "output_type": "stream",
          "name": "stdout",
          "text": [
            "******** Car array with class ********\n"
          ]
        },
        {
          "output_type": "execute_result",
          "data": {
            "text/plain": [
              "array([array([[[ 18,  18,  20],\n",
              "               [ 14,  14,  16],\n",
              "               [ 10,  10,  12],\n",
              "               ...,\n",
              "               [ 82,  90, 113],\n",
              "               [ 81,  89, 112],\n",
              "               [ 80,  88, 111]],\n",
              "\n",
              "              [[ 23,  23,  25],\n",
              "               [ 19,  19,  22],\n",
              "               [ 15,  15,  17],\n",
              "               ...,\n",
              "               [ 81,  89, 112],\n",
              "               [ 80,  88, 111],\n",
              "               [ 79,  87, 110]],\n",
              "\n",
              "              [[ 39,  38,  41],\n",
              "               [ 35,  34,  38],\n",
              "               [ 30,  29,  33],\n",
              "               ...,\n",
              "               [ 79,  86, 108],\n",
              "               [ 77,  85, 107],\n",
              "               [ 75,  83, 105]],\n",
              "\n",
              "              ...,\n",
              "\n",
              "              [[112, 109, 103],\n",
              "               [111, 108, 102],\n",
              "               [110, 107, 100],\n",
              "               ...,\n",
              "               [ 98,  97,  93],\n",
              "               [ 96,  95,  91],\n",
              "               [ 95,  94,  90]],\n",
              "\n",
              "              [[120, 117, 110],\n",
              "               [115, 112, 105],\n",
              "               [109, 105,  98],\n",
              "               ...,\n",
              "               [104, 103,  99],\n",
              "               [104, 103,  99],\n",
              "               [103, 102,  98]],\n",
              "\n",
              "              [[123, 120, 113],\n",
              "               [116, 113, 106],\n",
              "               [108, 105,  98],\n",
              "               ...,\n",
              "               [106, 105, 101],\n",
              "               [106, 105, 101],\n",
              "               [106, 105, 101]]], dtype=uint8), 0], dtype=object)"
            ]
          },
          "metadata": {},
          "execution_count": 16
        }
      ]
    },
    {
      "cell_type": "code",
      "source": [
        "# Car array \n",
        "print('******** Tree array with class ********')\n",
        "train[-1]"
      ],
      "metadata": {
        "colab": {
          "base_uri": "https://localhost:8080/"
        },
        "id": "3Culu2-eATUl",
        "outputId": "c01c4ea1-4299-4812-dbb8-0b689b3d92f2"
      },
      "id": "3Culu2-eATUl",
      "execution_count": 17,
      "outputs": [
        {
          "output_type": "stream",
          "name": "stdout",
          "text": [
            "******** Tree array with class ********\n"
          ]
        },
        {
          "output_type": "execute_result",
          "data": {
            "text/plain": [
              "array([array([[[176, 185, 224],\n",
              "               [175, 184, 223],\n",
              "               [175, 184, 223],\n",
              "               ...,\n",
              "               [ 23,  40, 110],\n",
              "               [ 23,  38, 107],\n",
              "               [143, 158, 227]],\n",
              "\n",
              "              [[180, 189, 228],\n",
              "               [179, 188, 227],\n",
              "               [178, 187, 226],\n",
              "               ...,\n",
              "               [ 16,  34, 106],\n",
              "               [ 15,  32, 104],\n",
              "               [ 65,  82, 152]],\n",
              "\n",
              "              [[184, 193, 232],\n",
              "               [182, 191, 230],\n",
              "               [180, 189, 228],\n",
              "               ...,\n",
              "               [ 77, 101, 175],\n",
              "               [ 57,  79, 154],\n",
              "               [ 41,  63, 138]],\n",
              "\n",
              "              ...,\n",
              "\n",
              "              [[ 15,  19,  18],\n",
              "               [ 20,  24,  23],\n",
              "               [ 20,  24,  23],\n",
              "               ...,\n",
              "               [ 55,  36,   3],\n",
              "               [ 51,  32,   0],\n",
              "               [ 76,  60,  26]],\n",
              "\n",
              "              [[ 18,  20,  19],\n",
              "               [ 22,  24,  23],\n",
              "               [ 17,  19,  18],\n",
              "               ...,\n",
              "               [ 68,  49,  19],\n",
              "               [ 61,  44,  14],\n",
              "               [ 76,  61,  30]],\n",
              "\n",
              "              [[  6,   6,   6],\n",
              "               [ 18,  18,  18],\n",
              "               [ 25,  25,  25],\n",
              "               ...,\n",
              "               [ 61,  44,  16],\n",
              "               [ 59,  42,  14],\n",
              "               [ 65,  50,  21]]], dtype=uint8), 1], dtype=object)"
            ]
          },
          "metadata": {},
          "execution_count": 17
        }
      ]
    },
    {
      "cell_type": "markdown",
      "id": "80b35bbf",
      "metadata": {
        "id": "80b35bbf"
      },
      "source": [
        "### 5. Proposed solution\n",
        "This is where you should implement most of the code for your solution. Write the routines for\n",
        "training and predicting the models and any necessary intermediate steps. Post-processing functions\n",
        "must also be implemented here.\n",
        "\n",
        "    • Use good programming practices, modularizing and adequately commenting on your code. Code quality will be\n",
        "      considered in the final assessment. Again, we recommend using PyTorch, but you are free to use any library \n",
        "      or platform. You just need to justify that in the final report.\n",
        "    \n",
        "    • You can use pre-trained models as backbones or any code available on the web as a basis, but they must be \n",
        "      correctly credited and referenced both in this notebook and in the final report. Cite the source link \n",
        "      repository and explicitly cite the authors of it. If you changed existing code, make it clear what the \n",
        "      changes were. Make it clear where your own code starts and where it ends. Note that the originality \n",
        "      percentage of the code will be considered in the evaluation, so use external codes wisely and sparingly. \n",
        "      Missconduct alert: remember that there are many tools that compare existing source code and that it is \n",
        "      relatively easy to identify authorship. So, be careful and fair by always properly thanking the authors \n",
        "      if you use external code."
      ]
    },
    {
      "cell_type": "code",
      "execution_count": null,
      "id": "9e63b797",
      "metadata": {
        "id": "9e63b797"
      },
      "outputs": [],
      "source": [
        "# Write your proposed solution code here. Create more code cells if you find it necessary\n"
      ]
    },
    {
      "cell_type": "markdown",
      "id": "fa3bb0e0",
      "metadata": {
        "id": "fa3bb0e0"
      },
      "source": [
        "### 6. Experimental tests and evaluations\n",
        "Here you must implement your code for training, testing and evaluating your solution. For this,\n",
        "the following code blocks (E1, E2, and E3) are mandatory:\n",
        "    \n",
        "    • E1 - Training the models. Implement code to call the dataloaders implemented for training your models. \n",
        "      Make routines to test different parameters of your models. Plot graphs that illustrate how parameters \n",
        "      impact model training. Compare. Train and select a model for each city (A and B) and justify. You should \n",
        "      use half (50%) of the samples from each dataset for training and leave the other half for testing (50%)."
      ]
    },
    {
      "cell_type": "code",
      "execution_count": null,
      "id": "b90812a7",
      "metadata": {
        "id": "b90812a7"
      },
      "outputs": [],
      "source": [
        "# Write your codes for E1 here. Create more code cells if needed"
      ]
    },
    {
      "cell_type": "markdown",
      "id": "b9988737",
      "metadata": {
        "id": "b9988737"
      },
      "source": [
        "    • E2 - Testing the models in the dataset. You must implement code routines to test the predictive ability \n",
        "      of your models using half of each dataset intended for testing. The model trained in city A must be tested \n",
        "      in city A. The model trained in city B must be tested in city B. Use the evaluation \n",
        "      metrics (accuracy, F1-score, AUC, etc) that are most appropriate for your problem. Plot graphs that illustrate\n",
        "      the results obtained for each city (A and B). Plot visual examples of correctly (true positive) and \n",
        "      incorrectly (false positive) classified samples.\n"
      ]
    },
    {
      "cell_type": "code",
      "execution_count": null,
      "id": "ffb89722",
      "metadata": {
        "id": "ffb89722"
      },
      "outputs": [],
      "source": [
        "# Write your codes for E1 here. Create more code cells if needed"
      ]
    },
    {
      "cell_type": "markdown",
      "id": "d3e308dc",
      "metadata": {
        "id": "d3e308dc"
      },
      "source": [
        "    • E3 - Testing the models crossing datasets. Here you must do exactly the same as in E2, but now training in \n",
        "      one city and testing in the other. The model trained in city A must be tested in city B. The model trained \n",
        "      in city B must be tested in city A. Use the same metrics and plot the same types of graphs so that results \n",
        "      are comparable.\n"
      ]
    },
    {
      "cell_type": "code",
      "execution_count": null,
      "id": "38ba65ba",
      "metadata": {
        "id": "38ba65ba"
      },
      "outputs": [],
      "source": [
        "# Write your codes for E1 here. Create more code cells if needed"
      ]
    },
    {
      "cell_type": "markdown",
      "id": "55e56102",
      "metadata": {
        "id": "55e56102"
      },
      "source": [
        "### 7. Quiz and Report\n",
        "Answer the assessment quiz that will be made available on Canvas one week before the final deadline.\n",
        "Make a 2-page latex report using the IEEE template (https://www.overleaf.com/project/63ebb36e5745843af380351f) with a maximum of 1000 words. Your report\n",
        "should contain five sections: introduction, description of the proposed solution with justifications,\n",
        "results (here you can include the same graphs and pictures generated in this jupyter notebook),\n",
        "discussion of the results, and conclusion. Properly cite references to articles, tutorials, and sources\n",
        "used. A pdf version of your report should be made available in the project’s github repository\n",
        "under the name ”[project name] + _final_report.pdf”.\n"
      ]
    },
    {
      "cell_type": "markdown",
      "id": "8fb5ab07",
      "metadata": {
        "id": "8fb5ab07"
      },
      "source": [
        "### 8. Demonstration\n",
        "Some projects (around 10%) will be selected for a mandatory demonstration. During the demo, you\n",
        "will be asked about implementation details and decisions that led to the design of the developed\n",
        "solution."
      ]
    },
    {
      "cell_type": "code",
      "execution_count": null,
      "id": "ea4e1924",
      "metadata": {
        "id": "ea4e1924"
      },
      "outputs": [],
      "source": []
    }
  ],
  "metadata": {
    "kernelspec": {
      "display_name": "Python 3 (ipykernel)",
      "language": "python",
      "name": "python3"
    },
    "language_info": {
      "codemirror_mode": {
        "name": "ipython",
        "version": 3
      },
      "file_extension": ".py",
      "mimetype": "text/x-python",
      "name": "python",
      "nbconvert_exporter": "python",
      "pygments_lexer": "ipython3",
      "version": "3.11.1"
    },
    "colab": {
      "provenance": [],
      "toc_visible": true
    }
  },
  "nbformat": 4,
  "nbformat_minor": 5
}