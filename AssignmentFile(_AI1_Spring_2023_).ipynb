{
  "cells": [
    {
      "cell_type": "markdown",
      "id": "ed93d610",
      "metadata": {
        "id": "ed93d610"
      },
      "source": [
        "# Deep_Learning 2023_Spring_Assignment_AI1\n",
        "\n",
        "## 0.1 ITNPAI1 - Deep Learning for Vision and NLP (2022/3)\n",
        "\n"
      ]
    },
    {
      "cell_type": "markdown",
      "id": "acd89193",
      "metadata": {
        "id": "acd89193"
      },
      "source": [
        "### Assignment Summary\n",
        "In this activity, you are required to apply the knowledge acquired in this module through the design\n",
        "and development of a complete project for deep learning-based image pattern recognition in an\n",
        "application to be defined by yourself. For this, you will need to perform the following mandatory\n",
        "steps:\n",
        "1. Problem definition\n",
        "2. GitHub repository\n",
        "3. Dataset\n",
        "4. Dataloader\n",
        "5. Proposed solution\n",
        "6. Experimental tests and evaluations\n",
        "7. Quiz and Report\n",
        "8. Demonstration session\n"
      ]
    },
    {
      "cell_type": "markdown",
      "id": "a81bcaec",
      "metadata": {
        "id": "a81bcaec"
      },
      "source": [
        "### 1. Problem definition\n",
        "You must choose a computer vision task (classification, detection, semantic segmentation, captioning, geotagging, etc) to be modeled from images collected in the context of two different cities (A\n",
        "and B). - If the work is being carried out in pairs, cities A and B must be the hometowns of\n",
        "each student. In the case of individual work, city A must be your hometown and city B must be\n",
        "Stirling (or Edinburgh, if needed). - The standard project recommendation is to focus on recognizing cars or trees, which are easier to identify and annotate. Other objects or phenomena can be\n",
        "adopted, but are subject to prior approval by the module instructor (Jefersson A. dos Santos). It\n",
        "is not allowed to assemble datasets containing people. Other sensitive patterns, such\n",
        "as license plates, must be properly hidden. - Don’t panic! We are aware that acquiring\n",
        "images in situ is an impediment for most students. The dataset can be assembled with images\n",
        "collected remotely or from public repositories. Just be careful with rights and permissions for using\n",
        "images found on the internet. Anyway, these factors must be taken into account for the problem definition. - Think of interesting problems, but that are easy to assemble an image dataset.\n",
        "1\n",
        "Although we encourage you to do interesting and engaging work, it shouldn’t be too complex or\n",
        "time-consuming. Try to appropriately scale the time required for this step. Ask the instructors for\n",
        "advice, if necessary"
      ]
    },
    {
      "cell_type": "markdown",
      "id": "e1ee832b",
      "metadata": {
        "id": "e1ee832b"
      },
      "source": [
        "### 2. GitHub repository\n",
        "Give your project a name, create a private GitHub repository with the name [Module Code] +\n",
        "[Project Name] and give access to the module instructors. Create a cover page with a description\n",
        "of your project. This empty notebook must be uploaded in the repository as well as the created\n",
        "dataset. The checkpoint date to perform this task will be two weeks after the publication of this\n",
        "notebook. This notebook should be updated and committed to the repository according to the\n",
        "checkpoint dates. The repository’s update history will be used as a criterion for monitoring and\n",
        "evaluating the work. Check the videos provided in the extra section on Canvas for more\n",
        "details on how to create your GitHub repository.\n"
      ]
    },
    {
      "cell_type": "markdown",
      "id": "4ec1a8e8",
      "metadata": {
        "id": "4ec1a8e8"
      },
      "source": [
        "### 3. Dataset creation\n",
        "You must collect a minimum of 200 positive samples from the study objects for each city (A\n",
        "and B). Note that, depending on the task being solved, it will also be necessary to:\n",
        "\n",
        "       (i) collect more samples - negative ones, for instance;\n",
        "       (ii) annotating each image, delineating objects or creating bounding boxes. Planning and executing this correctly is                 important to ensure effective training of deep learning-based models.\n",
        "Your dataset can be assembled from one or more of the following ways:\n",
        "\n",
        "    • M1 - Pictures taken by yourself on site (street view from cities A and B), with attention\n",
        "      to anonymization issues (if it is the case). It is not allowed to assemble datasets containing\n",
        "      people. Other sensitive patterns, such as license plates, must be properly hidden.\n",
        "      \n",
        "    • M2 - Aerial satellite/drone images obtained from GIS and remote sensing platforms or public\n",
        "      repositories. Be careful with unusual file formats that may be challenging to manipulate using\n",
        "      basic image processing libraries. We recommend keeping or converting the images to jpg or png.\n",
        "    \n",
        "    • M3 - Pictures taken from other public available datasets. Remember you are not allowed to use datasets containing \n",
        "      people or other sensitive patterns/objects.\n",
        "    \n",
        "    • M4 - Images crawled from the internet as a whole (social networks, webpages, etc), with special attention to use \n",
        "      and copyrights.\n",
        "      \n",
        "    • M5 - Textual and metadata you may need in your project, with special attention to use and copyrights (as always!).\n",
        "\n",
        "Important: If you collect the images on your own or from aerial imagery repositories, it will be\n",
        "necessary to keep the geographic coordinates. If you collect from specific websites, please retain\n",
        "the source links. This information should be placed in a .csv file and made available along with the\n",
        "final dataset.\n"
      ]
    },
    {
      "cell_type": "markdown",
      "id": "6bf0ebf1",
      "metadata": {
        "id": "6bf0ebf1"
      },
      "source": [
        "### 4. Dataloader\n",
        "Here you are required to implement all the code related to pre-processing, cleaning, de-noising and\n",
        "preparing the input images and metadata according to the necessary data structures as input to\n",
        "your pattern recognition module. We recommend using <a href='https://pytorch.org/tutorials/beginner/basics/data_tutorial.html'>PyTorch</a> or <a href='https://keras.io/getting_started/intro_to_keras_for_engineers/'>Tensorflow (with Keras)</a> as a\n",
        "base, but you are free to use any library or platform as long as it is well justified in the final report."
      ]
    },
    {
      "cell_type": "markdown",
      "id": "RsbNWqO213at",
      "metadata": {
        "id": "RsbNWqO213at"
      },
      "source": [
        "#### Using Necessary Libraries"
      ]
    },
    {
      "cell_type": "code",
      "execution_count": 33,
      "id": "5ae60ee3",
      "metadata": {
        "id": "5ae60ee3"
      },
      "outputs": [],
      "source": [
        "from keras.layers import Dense, Conv2D , MaxPool2D , Flatten , Dropout \n",
        "from sklearn.metrics import classification_report,confusion_matrix\n",
        "from sklearn.metrics import confusion_matrix, accuracy_score\n",
        "from keras.preprocessing.image import ImageDataGenerator\n",
        "from keras.models import Sequential\n",
        "from sklearn.metrics import f1_score\n",
        "from keras.optimizers import Adam\n",
        "import matplotlib.pyplot as plt\n",
        "import scikitplot as skplt\n",
        "import tensorflow as tf\n",
        "import seaborn as sns\n",
        "import numpy as np\n",
        "import keras\n",
        "import cv2\n",
        "import os\n",
        "import warnings\n",
        "warnings.filterwarnings('ignore')"
      ]
    },
    {
      "cell_type": "markdown",
      "id": "eSBG54b5-sqE",
      "metadata": {
        "id": "eSBG54b5-sqE"
      },
      "source": [
        "#### Converting images to array\n",
        "first resizing both classes images to 256 X 256 size and then converting images of train and validation data to array using \"OpenCV\", the array contain image array and it's class (car class to 0 value and tree class to 1 value )"
      ]
    },
    {
      "cell_type": "code",
      "execution_count": 34,
      "id": "p0kabrR79cVf",
      "metadata": {
        "id": "p0kabrR79cVf"
      },
      "outputs": [],
      "source": [
        "labels = ['cars', 'trees']\n",
        "img_size = 256\n",
        "def get_data(data_dir):\n",
        "    data = [] \n",
        "    for label in labels: \n",
        "        path = os.path.join(data_dir, label)\n",
        "        class_num = labels.index(label)\n",
        "        for img in os.listdir(path):\n",
        "            try:\n",
        "                img_arr = cv2.imread(os.path.join(path, img))[...,::-1] #convert BGR to RGB format\n",
        "                resized_arr = cv2.resize(img_arr, (img_size, img_size)) # Reshaping images to preferred size\n",
        "                data.append([resized_arr, class_num])\n",
        "            except Exception as e:\n",
        "                print(e)\n",
        "    return np.array(data)"
      ]
    },
    {
      "cell_type": "code",
      "execution_count": 35,
      "id": "biWpa7h--f_X",
      "metadata": {
        "colab": {
          "base_uri": "https://localhost:8080/",
          "height": 356
        },
        "id": "biWpa7h--f_X",
        "outputId": "2b66b38b-05ee-4f83-c130-9bd008ecca4c"
      },
      "outputs": [
        {
          "output_type": "error",
          "ename": "FileNotFoundError",
          "evalue": "ignored",
          "traceback": [
            "\u001b[0;31m---------------------------------------------------------------------------\u001b[0m",
            "\u001b[0;31mFileNotFoundError\u001b[0m                         Traceback (most recent call last)",
            "\u001b[0;32m<ipython-input-35-7e9807db62b4>\u001b[0m in \u001b[0;36m<cell line: 1>\u001b[0;34m()\u001b[0m\n\u001b[0;32m----> 1\u001b[0;31m \u001b[0mglasgow_train_data\u001b[0m \u001b[0;34m=\u001b[0m \u001b[0mget_data\u001b[0m\u001b[0;34m(\u001b[0m\u001b[0;34m'Dataset/glasgow/train'\u001b[0m\u001b[0;34m)\u001b[0m\u001b[0;34m\u001b[0m\u001b[0;34m\u001b[0m\u001b[0m\n\u001b[0m\u001b[1;32m      2\u001b[0m \u001b[0mstirling_train_data\u001b[0m \u001b[0;34m=\u001b[0m \u001b[0mget_data\u001b[0m\u001b[0;34m(\u001b[0m\u001b[0;34m'Dataset/stirling/train'\u001b[0m\u001b[0;34m)\u001b[0m\u001b[0;34m\u001b[0m\u001b[0;34m\u001b[0m\u001b[0m\n\u001b[1;32m      3\u001b[0m \u001b[0;34m\u001b[0m\u001b[0m\n\u001b[1;32m      4\u001b[0m \u001b[0mglasgow_testing_data\u001b[0m \u001b[0;34m=\u001b[0m \u001b[0mget_data\u001b[0m\u001b[0;34m(\u001b[0m\u001b[0;34m'Dataset/glasgow/test'\u001b[0m\u001b[0;34m)\u001b[0m\u001b[0;34m\u001b[0m\u001b[0;34m\u001b[0m\u001b[0m\n\u001b[1;32m      5\u001b[0m \u001b[0mstirling_testing_data\u001b[0m \u001b[0;34m=\u001b[0m \u001b[0mget_data\u001b[0m\u001b[0;34m(\u001b[0m\u001b[0;34m'Dataset/stirling/test'\u001b[0m\u001b[0;34m)\u001b[0m\u001b[0;34m\u001b[0m\u001b[0;34m\u001b[0m\u001b[0m\n",
            "\u001b[0;32m<ipython-input-34-97738c6378cb>\u001b[0m in \u001b[0;36mget_data\u001b[0;34m(data_dir)\u001b[0m\n\u001b[1;32m      6\u001b[0m         \u001b[0mpath\u001b[0m \u001b[0;34m=\u001b[0m \u001b[0mos\u001b[0m\u001b[0;34m.\u001b[0m\u001b[0mpath\u001b[0m\u001b[0;34m.\u001b[0m\u001b[0mjoin\u001b[0m\u001b[0;34m(\u001b[0m\u001b[0mdata_dir\u001b[0m\u001b[0;34m,\u001b[0m \u001b[0mlabel\u001b[0m\u001b[0;34m)\u001b[0m\u001b[0;34m\u001b[0m\u001b[0;34m\u001b[0m\u001b[0m\n\u001b[1;32m      7\u001b[0m         \u001b[0mclass_num\u001b[0m \u001b[0;34m=\u001b[0m \u001b[0mlabels\u001b[0m\u001b[0;34m.\u001b[0m\u001b[0mindex\u001b[0m\u001b[0;34m(\u001b[0m\u001b[0mlabel\u001b[0m\u001b[0;34m)\u001b[0m\u001b[0;34m\u001b[0m\u001b[0;34m\u001b[0m\u001b[0m\n\u001b[0;32m----> 8\u001b[0;31m         \u001b[0;32mfor\u001b[0m \u001b[0mimg\u001b[0m \u001b[0;32min\u001b[0m \u001b[0mos\u001b[0m\u001b[0;34m.\u001b[0m\u001b[0mlistdir\u001b[0m\u001b[0;34m(\u001b[0m\u001b[0mpath\u001b[0m\u001b[0;34m)\u001b[0m\u001b[0;34m:\u001b[0m\u001b[0;34m\u001b[0m\u001b[0;34m\u001b[0m\u001b[0m\n\u001b[0m\u001b[1;32m      9\u001b[0m             \u001b[0;32mtry\u001b[0m\u001b[0;34m:\u001b[0m\u001b[0;34m\u001b[0m\u001b[0;34m\u001b[0m\u001b[0m\n\u001b[1;32m     10\u001b[0m                 \u001b[0mimg_arr\u001b[0m \u001b[0;34m=\u001b[0m \u001b[0mcv2\u001b[0m\u001b[0;34m.\u001b[0m\u001b[0mimread\u001b[0m\u001b[0;34m(\u001b[0m\u001b[0mos\u001b[0m\u001b[0;34m.\u001b[0m\u001b[0mpath\u001b[0m\u001b[0;34m.\u001b[0m\u001b[0mjoin\u001b[0m\u001b[0;34m(\u001b[0m\u001b[0mpath\u001b[0m\u001b[0;34m,\u001b[0m \u001b[0mimg\u001b[0m\u001b[0;34m)\u001b[0m\u001b[0;34m)\u001b[0m\u001b[0;34m[\u001b[0m\u001b[0;34m...\u001b[0m\u001b[0;34m,\u001b[0m\u001b[0;34m:\u001b[0m\u001b[0;34m:\u001b[0m\u001b[0;34m-\u001b[0m\u001b[0;36m1\u001b[0m\u001b[0;34m]\u001b[0m \u001b[0;31m#convert BGR to RGB format\u001b[0m\u001b[0;34m\u001b[0m\u001b[0;34m\u001b[0m\u001b[0m\n",
            "\u001b[0;31mFileNotFoundError\u001b[0m: [Errno 2] No such file or directory: 'Dataset/glasgow/train/cars'"
          ]
        }
      ],
      "source": [
        "glasgow_train_data = get_data('Dataset/glasgow/train')\n",
        "stirling_train_data = get_data('Dataset/stirling/train')\n",
        "\n",
        "glasgow_testing_data = get_data('Dataset/glasgow/test')\n",
        "stirling_testing_data = get_data('Dataset/stirling/test')\n",
        "print(\"Images converted to array\")"
      ]
    },
    {
      "cell_type": "markdown",
      "id": "C3sZEqsjYORB",
      "metadata": {
        "id": "C3sZEqsjYORB"
      },
      "source": [
        "#### Ploting some images of both classes"
      ]
    },
    {
      "cell_type": "code",
      "execution_count": null,
      "id": "SHbla6ryVY0O",
      "metadata": {
        "id": "SHbla6ryVY0O"
      },
      "outputs": [],
      "source": [
        "import matplotlib.pyplot as plt\n",
        "import seaborn as sns\n",
        "import os\n",
        "from PIL import Image\n",
        "\n",
        "# images dataset folders path\n",
        "folder_path_1  = 'Dataset/stirling/train/cars'\n",
        "folder_path_2 = 'Dataset/stirling/test/trees'\n",
        "\n",
        "# list of images from folder1\n",
        "image_files_1 = os.listdir(folder_path_1)\n",
        "\n",
        "# list of images from folder2\n",
        "image_files_2 = os.listdir(folder_path_2)\n",
        "\n",
        "# creating figure to display the images\n",
        "fig = plt.figure(figsize=(10, 10))\n",
        "\n",
        "# loop through the first 3 images from each folder and displaying them in a 2x3 grid\n",
        "for i in range(3):\n",
        "    # open each image file from the folder1\n",
        "    img1 = Image.open(os.path.join(folder_path_1, image_files_1[i]))\n",
        "    \n",
        "    # add a subplot for current image from folder1\n",
        "    ax1 = fig.add_subplot(2, 3, i+1)\n",
        "    \n",
        "    # remove the axis ticks for image\n",
        "    ax1.set_xticks([])\n",
        "    ax1.set_yticks([])\n",
        "    \n",
        "    # displaying the image from the folder1 using matplotlib's imshow function\n",
        "    plt.imshow(img1)\n",
        "    \n",
        "    # open the image file from the folder2\n",
        "    img2 = Image.open(os.path.join(folder_path_2, image_files_2[i]))\n",
        "    \n",
        "    # add a subplot for the current image from folder2\n",
        "    ax2 = fig.add_subplot(2, 3, i+4)\n",
        "    \n",
        "    # remove the axis ticks for the second image\n",
        "    ax2.set_xticks([])\n",
        "    ax2.set_yticks([])\n",
        "    \n",
        "    # display the image from the folder2 using matplotlib's imshow function\n",
        "    plt.imshow(img2)\n",
        "\n",
        "# show the figure\n",
        "plt.show()"
      ]
    },
    {
      "cell_type": "code",
      "execution_count": null,
      "id": "6s15qlNN_srt",
      "metadata": {
        "id": "6s15qlNN_srt"
      },
      "outputs": [],
      "source": [
        "# Car array \n",
        "print('******** Car array with class ********')\n",
        "glasgow_train_data[0]"
      ]
    },
    {
      "cell_type": "code",
      "execution_count": null,
      "id": "3Culu2-eATUl",
      "metadata": {
        "id": "3Culu2-eATUl"
      },
      "outputs": [],
      "source": [
        "# Car array \n",
        "print('******** Tree array with class ********')\n",
        "glasgow_train_data[-1]"
      ]
    },
    {
      "cell_type": "markdown",
      "id": "80b35bbf",
      "metadata": {
        "id": "80b35bbf"
      },
      "source": [
        "### 5. Proposed solution\n",
        "This is where you should implement most of the code for your solution. Write the routines for\n",
        "training and predicting the models and any necessary intermediate steps. Post-processing functions\n",
        "must also be implemented here.\n",
        "\n",
        "    • Use good programming practices, modularizing and adequately commenting on your code. Code quality will be\n",
        "      considered in the final assessment. Again, we recommend using PyTorch, but you are free to use any library \n",
        "      or platform. You just need to justify that in the final report.\n",
        "    \n",
        "    • You can use pre-trained models as backbones or any code available on the web as a basis, but they must be \n",
        "      correctly credited and referenced both in this notebook and in the final report. Cite the source link \n",
        "      repository and explicitly cite the authors of it. If you changed existing code, make it clear what the \n",
        "      changes were. Make it clear where your own code starts and where it ends. Note that the originality \n",
        "      percentage of the code will be considered in the evaluation, so use external codes wisely and sparingly. \n",
        "      Missconduct alert: remember that there are many tools that compare existing source code and that it is \n",
        "      relatively easy to identify authorship. So, be careful and fair by always properly thanking the authors \n",
        "      if you use external code."
      ]
    },
    {
      "cell_type": "markdown",
      "id": "J3IEtvBGIoAx",
      "metadata": {
        "id": "J3IEtvBGIoAx"
      },
      "source": [
        "#### Normalizing and and preparing data for machine learning\n",
        "preparing data for a machine learning model. It starts by initializing empty lists for the training and validation features (x_train and x_val) and labels (y_train and y_val). Then, it loops through the train and val datasets to append the features and labels to their respective lists.\n",
        "\n",
        "After that, the code normalizes the data by converting the x_train and x_val lists to NumPy arrays and dividing them by 255. The shape of the x_train array is then printed before it is reshaped to have dimensions of (-1, img_size, img_size, 1). The same is done for the x_val array.\n",
        "\n",
        "Finally, the y_train and y_val lists are converted to NumPy arrays. The shape of the x_train array is printed again after reshaping."
      ]
    },
    {
      "cell_type": "markdown",
      "id": "0729e53b",
      "metadata": {
        "id": "0729e53b"
      },
      "source": [
        "##### Glasgow data normalization"
      ]
    },
    {
      "cell_type": "code",
      "execution_count": 36,
      "id": "9e63b797",
      "metadata": {
        "colab": {
          "base_uri": "https://localhost:8080/"
        },
        "id": "9e63b797",
        "outputId": "8e1b411f-3a54-41d2-b1cc-85e3e9846a11"
      },
      "outputs": [
        {
          "output_type": "stream",
          "name": "stdout",
          "text": [
            "Training data shape (200, 256, 256, 3)\n",
            "Validation data shape (200, 256, 256, 3)\n"
          ]
        }
      ],
      "source": [
        "glasgow_x_train = []\n",
        "glasgow_y_train = []\n",
        "glasgow_x_test = []\n",
        "glasgow_y_test = []\n",
        "\n",
        "for feature, label in glasgow_train_data:\n",
        "  glasgow_x_train.append(feature)\n",
        "  glasgow_y_train.append(label)\n",
        "\n",
        "for feature, label in glasgow_testing_data:\n",
        "  glasgow_x_test.append(feature)\n",
        "  glasgow_y_test.append(label)\n",
        "\n",
        "# Normalize the data\n",
        "glasgow_x_train = np.array(glasgow_x_train) / 255\n",
        "glasgow_x_test = np.array(glasgow_x_test) / 255\n",
        "glasgow_x_train.reshape(-1, img_size, img_size, 1)\n",
        "glasgow_y_train = np.array(glasgow_y_train)\n",
        "glasgow_x_test.reshape(-1, img_size, img_size, 1)\n",
        "glasgow_y_test = np.array(glasgow_y_test)\n",
        "print('Training data shape', glasgow_x_train.shape)\n",
        "print('Validation data shape', glasgow_x_test.shape)\n"
      ]
    },
    {
      "cell_type": "markdown",
      "id": "1d73f9e1",
      "metadata": {
        "id": "1d73f9e1"
      },
      "source": [
        "##### Stirling data normalization"
      ]
    },
    {
      "cell_type": "code",
      "execution_count": 37,
      "id": "0dbf3122",
      "metadata": {
        "colab": {
          "base_uri": "https://localhost:8080/"
        },
        "id": "0dbf3122",
        "outputId": "a7675a4c-b4fa-4e78-aa5b-498e8e6b2ea3"
      },
      "outputs": [
        {
          "output_type": "stream",
          "name": "stdout",
          "text": [
            "Training data shape (200, 256, 256, 3)\n",
            "Validation data shape (200, 256, 256, 3)\n"
          ]
        }
      ],
      "source": [
        "stirling_x_train = []\n",
        "stirling_y_train = []\n",
        "stirling_x_test = []\n",
        "stirling_y_test = []\n",
        "\n",
        "for feature, label in stirling_train_data:\n",
        "  stirling_x_train.append(feature)\n",
        "  stirling_y_train.append(label)\n",
        "\n",
        "for feature, label in stirling_testing_data:\n",
        "  stirling_x_test.append(feature)\n",
        "  stirling_y_test.append(label)\n",
        "\n",
        "# Normalize the data\n",
        "stirling_x_train = np.array(stirling_x_train) / 255\n",
        "stirling_x_test = np.array(stirling_x_test) / 255\n",
        "stirling_x_train.reshape(-1, img_size, img_size, 1)\n",
        "stirling_y_train = np.array(stirling_y_train)\n",
        "stirling_x_test.reshape(-1, img_size, img_size, 1)\n",
        "stirling_y_test = np.array(stirling_y_test)\n",
        "print('Training data shape', stirling_x_train.shape)\n",
        "print('Validation data shape', stirling_x_test.shape)"
      ]
    },
    {
      "cell_type": "markdown",
      "id": "fa3bb0e0",
      "metadata": {
        "id": "fa3bb0e0"
      },
      "source": [
        "### 6. Experimental tests and evaluations\n",
        "Here you must implement your code for training, testing and evaluating your solution. For this,\n",
        "the following code blocks (E1, E2, and E3) are mandatory:\n",
        "    \n",
        "    • E1 - Training the models. Implement code to call the dataloaders implemented for training your models. \n",
        "      Make routines to test different parameters of your models. Plot graphs that illustrate how parameters \n",
        "      impact model training. Compare. Train and select a model for each city (A and B) and justify. You should \n",
        "      use half (50%) of the samples from each dataset for training and leave the other half for testing (50%)."
      ]
    },
    {
      "cell_type": "markdown",
      "source": [
        "#### Working with glasgow model"
      ],
      "metadata": {
        "id": "6qRLNIESu0Mf"
      },
      "id": "6qRLNIESu0Mf"
    },
    {
      "cell_type": "markdown",
      "source": [
        "##### Creating Model"
      ],
      "metadata": {
        "id": "oUBjQ5HfwbJq"
      },
      "id": "oUBjQ5HfwbJq"
    },
    {
      "cell_type": "code",
      "execution_count": 38,
      "id": "7d9baea4",
      "metadata": {
        "colab": {
          "base_uri": "https://localhost:8080/"
        },
        "id": "7d9baea4",
        "outputId": "7de013cd-9504-49cd-dfe7-19e9594d8acb"
      },
      "outputs": [
        {
          "output_type": "stream",
          "name": "stdout",
          "text": [
            "Model: \"sequential_2\"\n",
            "_________________________________________________________________\n",
            " Layer (type)                Output Shape              Param #   \n",
            "=================================================================\n",
            " conv2d_6 (Conv2D)           (None, 256, 256, 32)      896       \n",
            "                                                                 \n",
            " max_pooling2d_6 (MaxPooling  (None, 128, 128, 32)     0         \n",
            " 2D)                                                             \n",
            "                                                                 \n",
            " conv2d_7 (Conv2D)           (None, 128, 128, 32)      9248      \n",
            "                                                                 \n",
            " max_pooling2d_7 (MaxPooling  (None, 64, 64, 32)       0         \n",
            " 2D)                                                             \n",
            "                                                                 \n",
            " conv2d_8 (Conv2D)           (None, 64, 64, 64)        18496     \n",
            "                                                                 \n",
            " max_pooling2d_8 (MaxPooling  (None, 32, 32, 64)       0         \n",
            " 2D)                                                             \n",
            "                                                                 \n",
            " dropout_2 (Dropout)         (None, 32, 32, 64)        0         \n",
            "                                                                 \n",
            " flatten_2 (Flatten)         (None, 65536)             0         \n",
            "                                                                 \n",
            " dense_4 (Dense)             (None, 128)               8388736   \n",
            "                                                                 \n",
            " dense_5 (Dense)             (None, 1)                 129       \n",
            "                                                                 \n",
            "=================================================================\n",
            "Total params: 8,417,505\n",
            "Trainable params: 8,417,505\n",
            "Non-trainable params: 0\n",
            "_________________________________________________________________\n"
          ]
        }
      ],
      "source": [
        "glasgow_model = Sequential()\n",
        "glasgow_model.add(Conv2D(32,3,padding=\"same\", activation=\"relu\", input_shape=(256,256,3)))\n",
        "glasgow_model.add(MaxPool2D())\n",
        "\n",
        "glasgow_model.add(Conv2D(32, 3, padding=\"same\", activation=\"relu\"))\n",
        "glasgow_model.add(MaxPool2D())\n",
        "\n",
        "glasgow_model.add(Conv2D(64, 3, padding=\"same\", activation=\"relu\"))\n",
        "glasgow_model.add(MaxPool2D())\n",
        "glasgow_model.add(Dropout(0.4))\n",
        "\n",
        "glasgow_model.add(Flatten())\n",
        "glasgow_model.add(Dense(128,activation=\"relu\"))\n",
        "glasgow_model.add(Dense(1, activation=\"sigmoid\"))\n",
        "\n",
        "glasgow_model.summary()"
      ]
    },
    {
      "cell_type": "markdown",
      "source": [
        "##### Compiling Model"
      ],
      "metadata": {
        "id": "11NiVb2jx6el"
      },
      "id": "11NiVb2jx6el"
    },
    {
      "cell_type": "code",
      "source": [
        "opt = Adam(lr=0.000001)\n",
        "glasgow_model.compile(optimizer = opt ,  loss = tf.keras.losses.BinaryCrossentropy( \n",
        "    from_logits=False,\n",
        "    label_smoothing=0.0,\n",
        "    axis=-1,\n",
        "    name='binary_crossentropy'), metrics = ['accuracy'])"
      ],
      "metadata": {
        "id": "bnFXFDHFx5Fz"
      },
      "id": "bnFXFDHFx5Fz",
      "execution_count": 39,
      "outputs": []
    },
    {
      "cell_type": "markdown",
      "source": [
        "##### Training Model"
      ],
      "metadata": {
        "id": "4i29rrzHyUl6"
      },
      "id": "4i29rrzHyUl6"
    },
    {
      "cell_type": "code",
      "source": [
        "history = glasgow_model.fit(glasgow_x_train, glasgow_y_train,epochs = 50)"
      ],
      "metadata": {
        "colab": {
          "base_uri": "https://localhost:8080/"
        },
        "id": "AEtFNwIayRZK",
        "outputId": "c091d5a7-8264-4c8f-ba28-9323216d4e40"
      },
      "id": "AEtFNwIayRZK",
      "execution_count": 40,
      "outputs": [
        {
          "output_type": "stream",
          "name": "stdout",
          "text": [
            "Epoch 1/50\n",
            "7/7 [==============================] - 23s 3s/step - loss: 0.6866 - accuracy: 0.5300\n",
            "Epoch 2/50\n",
            "7/7 [==============================] - 19s 2s/step - loss: 0.6821 - accuracy: 0.5750\n",
            "Epoch 3/50\n",
            "7/7 [==============================] - 16s 2s/step - loss: 0.6853 - accuracy: 0.4950\n",
            "Epoch 4/50\n",
            "7/7 [==============================] - 16s 2s/step - loss: 0.6766 - accuracy: 0.5250\n",
            "Epoch 5/50\n",
            "7/7 [==============================] - 16s 2s/step - loss: 0.6755 - accuracy: 0.5100\n",
            "Epoch 6/50\n",
            "7/7 [==============================] - 15s 2s/step - loss: 0.6744 - accuracy: 0.5000\n",
            "Epoch 7/50\n",
            "7/7 [==============================] - 15s 2s/step - loss: 0.6681 - accuracy: 0.5000\n",
            "Epoch 8/50\n",
            "7/7 [==============================] - 16s 2s/step - loss: 0.6631 - accuracy: 0.5100\n",
            "Epoch 9/50\n",
            "7/7 [==============================] - 16s 2s/step - loss: 0.6581 - accuracy: 0.5150\n",
            "Epoch 10/50\n",
            "7/7 [==============================] - 17s 2s/step - loss: 0.6596 - accuracy: 0.5100\n",
            "Epoch 11/50\n",
            "7/7 [==============================] - 15s 2s/step - loss: 0.6570 - accuracy: 0.5150\n",
            "Epoch 12/50\n",
            "7/7 [==============================] - 15s 2s/step - loss: 0.6533 - accuracy: 0.5100\n",
            "Epoch 13/50\n",
            "7/7 [==============================] - 16s 2s/step - loss: 0.6494 - accuracy: 0.5150\n",
            "Epoch 14/50\n",
            "7/7 [==============================] - 16s 2s/step - loss: 0.6460 - accuracy: 0.5150\n",
            "Epoch 15/50\n",
            "7/7 [==============================] - 17s 2s/step - loss: 0.6419 - accuracy: 0.5200\n",
            "Epoch 16/50\n",
            "7/7 [==============================] - 15s 2s/step - loss: 0.6385 - accuracy: 0.5250\n",
            "Epoch 17/50\n",
            "7/7 [==============================] - 16s 2s/step - loss: 0.6342 - accuracy: 0.5200\n",
            "Epoch 18/50\n",
            "7/7 [==============================] - 15s 2s/step - loss: 0.6351 - accuracy: 0.5200\n",
            "Epoch 19/50\n",
            "7/7 [==============================] - 16s 2s/step - loss: 0.6297 - accuracy: 0.5250\n",
            "Epoch 20/50\n",
            "7/7 [==============================] - 16s 2s/step - loss: 0.6255 - accuracy: 0.5400\n",
            "Epoch 21/50\n",
            "7/7 [==============================] - 16s 2s/step - loss: 0.6212 - accuracy: 0.5450\n",
            "Epoch 22/50\n",
            "7/7 [==============================] - 15s 2s/step - loss: 0.6162 - accuracy: 0.5850\n",
            "Epoch 23/50\n",
            "7/7 [==============================] - 15s 2s/step - loss: 0.6117 - accuracy: 0.5550\n",
            "Epoch 24/50\n",
            "7/7 [==============================] - 15s 2s/step - loss: 0.6068 - accuracy: 0.5700\n",
            "Epoch 25/50\n",
            "7/7 [==============================] - 15s 2s/step - loss: 0.6087 - accuracy: 0.5950\n",
            "Epoch 26/50\n",
            "7/7 [==============================] - 17s 2s/step - loss: 0.5988 - accuracy: 0.6600\n",
            "Epoch 27/50\n",
            "7/7 [==============================] - 15s 2s/step - loss: 0.5949 - accuracy: 0.6800\n",
            "Epoch 28/50\n",
            "7/7 [==============================] - 15s 2s/step - loss: 0.5943 - accuracy: 0.6400\n",
            "Epoch 29/50\n",
            "7/7 [==============================] - 15s 2s/step - loss: 0.5860 - accuracy: 0.7100\n",
            "Epoch 30/50\n",
            "7/7 [==============================] - 15s 2s/step - loss: 0.5835 - accuracy: 0.7450\n",
            "Epoch 31/50\n",
            "7/7 [==============================] - 15s 2s/step - loss: 0.5762 - accuracy: 0.7100\n",
            "Epoch 32/50\n",
            "7/7 [==============================] - 17s 2s/step - loss: 0.5739 - accuracy: 0.7500\n",
            "Epoch 33/50\n",
            "7/7 [==============================] - 15s 2s/step - loss: 0.5670 - accuracy: 0.7750\n",
            "Epoch 34/50\n",
            "7/7 [==============================] - 15s 2s/step - loss: 0.5634 - accuracy: 0.8000\n",
            "Epoch 35/50\n",
            "7/7 [==============================] - 15s 2s/step - loss: 0.5587 - accuracy: 0.8050\n",
            "Epoch 36/50\n",
            "7/7 [==============================] - 15s 2s/step - loss: 0.5486 - accuracy: 0.8350\n",
            "Epoch 37/50\n",
            "7/7 [==============================] - 17s 2s/step - loss: 0.5487 - accuracy: 0.8350\n",
            "Epoch 38/50\n",
            "7/7 [==============================] - 15s 2s/step - loss: 0.5403 - accuracy: 0.8650\n",
            "Epoch 39/50\n",
            "7/7 [==============================] - 15s 2s/step - loss: 0.5395 - accuracy: 0.8450\n",
            "Epoch 40/50\n",
            "7/7 [==============================] - 15s 2s/step - loss: 0.5327 - accuracy: 0.8850\n",
            "Epoch 41/50\n",
            "7/7 [==============================] - 16s 2s/step - loss: 0.5323 - accuracy: 0.8900\n",
            "Epoch 42/50\n",
            "7/7 [==============================] - 16s 2s/step - loss: 0.5232 - accuracy: 0.8800\n",
            "Epoch 43/50\n",
            "7/7 [==============================] - 17s 2s/step - loss: 0.5199 - accuracy: 0.8750\n",
            "Epoch 44/50\n",
            "7/7 [==============================] - 15s 2s/step - loss: 0.5130 - accuracy: 0.8950\n",
            "Epoch 45/50\n",
            "7/7 [==============================] - 15s 2s/step - loss: 0.5077 - accuracy: 0.9050\n",
            "Epoch 46/50\n",
            "7/7 [==============================] - 15s 2s/step - loss: 0.5040 - accuracy: 0.8950\n",
            "Epoch 47/50\n",
            "7/7 [==============================] - 15s 2s/step - loss: 0.4997 - accuracy: 0.9150\n",
            "Epoch 48/50\n",
            "7/7 [==============================] - 17s 2s/step - loss: 0.4914 - accuracy: 0.9350\n",
            "Epoch 49/50\n",
            "7/7 [==============================] - 15s 2s/step - loss: 0.4911 - accuracy: 0.9450\n",
            "Epoch 50/50\n",
            "7/7 [==============================] - 15s 2s/step - loss: 0.4896 - accuracy: 0.9250\n"
          ]
        }
      ]
    },
    {
      "cell_type": "markdown",
      "source": [
        "##### Visualizing training results"
      ],
      "metadata": {
        "id": "pwNyvrQ_33Ly"
      },
      "id": "pwNyvrQ_33Ly"
    },
    {
      "cell_type": "code",
      "source": [
        "acc = history.history['accuracy']\n",
        "loss = history.history['loss']\n",
        "\n",
        "epochs_range = range(50)\n",
        "\n",
        "plt.figure(figsize=(10, 10))\n",
        "plt.subplot(2, 2, 1)\n",
        "plt.plot(epochs_range, acc, label='Training Accuracy')\n",
        "plt.legend(loc='lower right')\n",
        "plt.title('Training Accuracy')\n",
        "plt.subplot(2, 2, 2)\n",
        "plt.plot(epochs_range, loss, label='Training Loss')\n",
        "plt.title('Training Loss')\n",
        "plt.show()\n"
      ],
      "metadata": {
        "colab": {
          "base_uri": "https://localhost:8080/",
          "height": 0
        },
        "id": "_yrwJsT9313F",
        "outputId": "57267e9c-3d06-4c0e-c2ad-8aa1162a9ce4"
      },
      "id": "_yrwJsT9313F",
      "execution_count": 41,
      "outputs": [
        {
          "output_type": "display_data",
          "data": {
            "text/plain": [
              "<Figure size 1000x1000 with 2 Axes>"
            ],
            "image/png": "[encoded data removed]"
          },
          "metadata": {}
        }
      ]
    },
    {
      "cell_type": "markdown",
      "source": [
        "#### Working with stirling model"
      ],
      "metadata": {
        "id": "niFOi2kQ65Nl"
      },
      "id": "niFOi2kQ65Nl"
    },
    {
      "cell_type": "markdown",
      "source": [
        "##### Creating model"
      ],
      "metadata": {
        "id": "LeowpuPN7H6T"
      },
      "id": "LeowpuPN7H6T"
    },
    {
      "cell_type": "code",
      "source": [
        "stirling_model = Sequential()\n",
        "stirling_model.add(Conv2D(32,3,padding=\"same\", activation=\"relu\", input_shape=(256,256,3)))\n",
        "stirling_model.add(MaxPool2D())\n",
        "\n",
        "stirling_model.add(Conv2D(32, 3, padding=\"same\", activation=\"relu\"))\n",
        "stirling_model.add(MaxPool2D())\n",
        "\n",
        "stirling_model.add(Conv2D(64, 3, padding=\"same\", activation=\"relu\"))\n",
        "stirling_model.add(MaxPool2D())\n",
        "stirling_model.add(Dropout(0.4))\n",
        "\n",
        "stirling_model.add(Flatten())\n",
        "stirling_model.add(Dense(128,activation=\"relu\"))\n",
        "stirling_model.add(Dense(1, activation=\"sigmoid\"))\n",
        "\n",
        "stirling_model.summary()"
      ],
      "metadata": {
        "colab": {
          "base_uri": "https://localhost:8080/"
        },
        "id": "RdHDrnRA64XA",
        "outputId": "e3a8a7b0-15f2-422e-bf3d-d7478e801244"
      },
      "id": "RdHDrnRA64XA",
      "execution_count": 42,
      "outputs": [
        {
          "output_type": "stream",
          "name": "stdout",
          "text": [
            "Model: \"sequential_3\"\n",
            "_________________________________________________________________\n",
            " Layer (type)                Output Shape              Param #   \n",
            "=================================================================\n",
            " conv2d_9 (Conv2D)           (None, 256, 256, 32)      896       \n",
            "                                                                 \n",
            " max_pooling2d_9 (MaxPooling  (None, 128, 128, 32)     0         \n",
            " 2D)                                                             \n",
            "                                                                 \n",
            " conv2d_10 (Conv2D)          (None, 128, 128, 32)      9248      \n",
            "                                                                 \n",
            " max_pooling2d_10 (MaxPoolin  (None, 64, 64, 32)       0         \n",
            " g2D)                                                            \n",
            "                                                                 \n",
            " conv2d_11 (Conv2D)          (None, 64, 64, 64)        18496     \n",
            "                                                                 \n",
            " max_pooling2d_11 (MaxPoolin  (None, 32, 32, 64)       0         \n",
            " g2D)                                                            \n",
            "                                                                 \n",
            " dropout_3 (Dropout)         (None, 32, 32, 64)        0         \n",
            "                                                                 \n",
            " flatten_3 (Flatten)         (None, 65536)             0         \n",
            "                                                                 \n",
            " dense_6 (Dense)             (None, 128)               8388736   \n",
            "                                                                 \n",
            " dense_7 (Dense)             (None, 1)                 129       \n",
            "                                                                 \n",
            "=================================================================\n",
            "Total params: 8,417,505\n",
            "Trainable params: 8,417,505\n",
            "Non-trainable params: 0\n",
            "_________________________________________________________________\n"
          ]
        }
      ]
    },
    {
      "cell_type": "markdown",
      "source": [
        "##### Compiling model"
      ],
      "metadata": {
        "id": "JIMc2Iwc7xLk"
      },
      "id": "JIMc2Iwc7xLk"
    },
    {
      "cell_type": "code",
      "source": [
        "opt = Adam(lr=0.000001)\n",
        "stirling_model.compile(optimizer = opt ,  loss = tf.keras.losses.BinaryCrossentropy( \n",
        "    from_logits=False,\n",
        "    label_smoothing=0.0,\n",
        "    axis=-1,\n",
        "    name='binary_crossentropy'), metrics = ['accuracy'])"
      ],
      "metadata": {
        "id": "5NHctjw17xyi"
      },
      "id": "5NHctjw17xyi",
      "execution_count": 43,
      "outputs": []
    },
    {
      "cell_type": "markdown",
      "source": [
        "##### Training Model"
      ],
      "metadata": {
        "id": "AOFWmm0x8yx5"
      },
      "id": "AOFWmm0x8yx5"
    },
    {
      "cell_type": "code",
      "source": [
        "history = stirling_model.fit(stirling_x_train, stirling_y_train,epochs = 50)"
      ],
      "metadata": {
        "colab": {
          "base_uri": "https://localhost:8080/"
        },
        "id": "cV7EZm6B8xoj",
        "outputId": "09aa1c3e-39a4-4d1f-8316-fa348896c4d5"
      },
      "id": "cV7EZm6B8xoj",
      "execution_count": 44,
      "outputs": [
        {
          "output_type": "stream",
          "name": "stdout",
          "text": [
            "Epoch 1/50\n",
            "7/7 [==============================] - 16s 2s/step - loss: 0.6982 - accuracy: 0.4800\n",
            "Epoch 2/50\n",
            "7/7 [==============================] - 15s 2s/step - loss: 0.6948 - accuracy: 0.4400\n",
            "Epoch 3/50\n",
            "7/7 [==============================] - 15s 2s/step - loss: 0.6937 - accuracy: 0.4950\n",
            "Epoch 4/50\n",
            "7/7 [==============================] - 15s 2s/step - loss: 0.6891 - accuracy: 0.5550\n",
            "Epoch 5/50\n",
            "7/7 [==============================] - 17s 2s/step - loss: 0.6852 - accuracy: 0.6000\n",
            "Epoch 6/50\n",
            "7/7 [==============================] - 15s 2s/step - loss: 0.6794 - accuracy: 0.6650\n",
            "Epoch 7/50\n",
            "7/7 [==============================] - 15s 2s/step - loss: 0.6775 - accuracy: 0.6450\n",
            "Epoch 8/50\n",
            "7/7 [==============================] - 15s 2s/step - loss: 0.6772 - accuracy: 0.6600\n",
            "Epoch 9/50\n",
            "7/7 [==============================] - 16s 2s/step - loss: 0.6754 - accuracy: 0.6700\n",
            "Epoch 10/50\n",
            "7/7 [==============================] - 16s 2s/step - loss: 0.6712 - accuracy: 0.6800\n",
            "Epoch 11/50\n",
            "7/7 [==============================] - 16s 2s/step - loss: 0.6701 - accuracy: 0.6900\n",
            "Epoch 12/50\n",
            "7/7 [==============================] - 16s 2s/step - loss: 0.6662 - accuracy: 0.7200\n",
            "Epoch 13/50\n",
            "7/7 [==============================] - 16s 2s/step - loss: 0.6641 - accuracy: 0.6650\n",
            "Epoch 14/50\n",
            "7/7 [==============================] - 15s 2s/step - loss: 0.6595 - accuracy: 0.6700\n",
            "Epoch 15/50\n",
            "7/7 [==============================] - 16s 2s/step - loss: 0.6563 - accuracy: 0.7350\n",
            "Epoch 16/50\n",
            "7/7 [==============================] - 17s 2s/step - loss: 0.6520 - accuracy: 0.6950\n",
            "Epoch 17/50\n",
            "7/7 [==============================] - 15s 2s/step - loss: 0.6497 - accuracy: 0.7850\n",
            "Epoch 18/50\n",
            "7/7 [==============================] - 16s 2s/step - loss: 0.6453 - accuracy: 0.7750\n",
            "Epoch 19/50\n",
            "7/7 [==============================] - 15s 2s/step - loss: 0.6459 - accuracy: 0.7450\n",
            "Epoch 20/50\n",
            "7/7 [==============================] - 15s 2s/step - loss: 0.6413 - accuracy: 0.7750\n",
            "Epoch 21/50\n",
            "7/7 [==============================] - 17s 2s/step - loss: 0.6370 - accuracy: 0.7800\n",
            "Epoch 22/50\n",
            "7/7 [==============================] - 16s 2s/step - loss: 0.6364 - accuracy: 0.8250\n",
            "Epoch 23/50\n",
            "7/7 [==============================] - 15s 2s/step - loss: 0.6293 - accuracy: 0.8350\n",
            "Epoch 24/50\n",
            "7/7 [==============================] - 15s 2s/step - loss: 0.6275 - accuracy: 0.8050\n",
            "Epoch 25/50\n",
            "7/7 [==============================] - 15s 2s/step - loss: 0.6226 - accuracy: 0.8350\n",
            "Epoch 26/50\n",
            "7/7 [==============================] - 16s 2s/step - loss: 0.6183 - accuracy: 0.8400\n",
            "Epoch 27/50\n",
            "7/7 [==============================] - 16s 2s/step - loss: 0.6168 - accuracy: 0.8500\n",
            "Epoch 28/50\n",
            "7/7 [==============================] - 15s 2s/step - loss: 0.6099 - accuracy: 0.8850\n",
            "Epoch 29/50\n",
            "7/7 [==============================] - 16s 2s/step - loss: 0.6037 - accuracy: 0.8500\n",
            "Epoch 30/50\n",
            "7/7 [==============================] - 16s 2s/step - loss: 0.6044 - accuracy: 0.8500\n",
            "Epoch 31/50\n",
            "7/7 [==============================] - 15s 2s/step - loss: 0.5976 - accuracy: 0.9050\n",
            "Epoch 32/50\n",
            "7/7 [==============================] - 16s 2s/step - loss: 0.5901 - accuracy: 0.8650\n",
            "Epoch 33/50\n",
            "7/7 [==============================] - 15s 2s/step - loss: 0.5899 - accuracy: 0.8550\n",
            "Epoch 34/50\n",
            "7/7 [==============================] - 15s 2s/step - loss: 0.5824 - accuracy: 0.9050\n",
            "Epoch 35/50\n",
            "7/7 [==============================] - 15s 2s/step - loss: 0.5786 - accuracy: 0.8900\n",
            "Epoch 36/50\n",
            "7/7 [==============================] - 15s 2s/step - loss: 0.5755 - accuracy: 0.9150\n",
            "Epoch 37/50\n",
            "7/7 [==============================] - 15s 2s/step - loss: 0.5678 - accuracy: 0.9000\n",
            "Epoch 38/50\n",
            "7/7 [==============================] - 17s 2s/step - loss: 0.5633 - accuracy: 0.9200\n",
            "Epoch 39/50\n",
            "7/7 [==============================] - 15s 2s/step - loss: 0.5594 - accuracy: 0.9450\n",
            "Epoch 40/50\n",
            "7/7 [==============================] - 15s 2s/step - loss: 0.5590 - accuracy: 0.9250\n",
            "Epoch 41/50\n",
            "7/7 [==============================] - 15s 2s/step - loss: 0.5504 - accuracy: 0.9350\n",
            "Epoch 42/50\n",
            "7/7 [==============================] - 15s 2s/step - loss: 0.5447 - accuracy: 0.9400\n",
            "Epoch 43/50\n",
            "7/7 [==============================] - 16s 2s/step - loss: 0.5376 - accuracy: 0.9500\n",
            "Epoch 44/50\n",
            "7/7 [==============================] - 16s 2s/step - loss: 0.5353 - accuracy: 0.9400\n",
            "Epoch 45/50\n",
            "7/7 [==============================] - 15s 2s/step - loss: 0.5315 - accuracy: 0.9450\n",
            "Epoch 46/50\n",
            "7/7 [==============================] - 15s 2s/step - loss: 0.5241 - accuracy: 0.9400\n",
            "Epoch 47/50\n",
            "7/7 [==============================] - 15s 2s/step - loss: 0.5166 - accuracy: 0.9500\n",
            "Epoch 48/50\n",
            "7/7 [==============================] - 15s 2s/step - loss: 0.5197 - accuracy: 0.9300\n",
            "Epoch 49/50\n",
            "7/7 [==============================] - 16s 2s/step - loss: 0.5129 - accuracy: 0.9300\n",
            "Epoch 50/50\n",
            "7/7 [==============================] - 16s 2s/step - loss: 0.5064 - accuracy: 0.9450\n"
          ]
        }
      ]
    },
    {
      "cell_type": "markdown",
      "source": [
        "##### Visualizing training results"
      ],
      "metadata": {
        "id": "4MEtfLauBs-2"
      },
      "id": "4MEtfLauBs-2"
    },
    {
      "cell_type": "code",
      "source": [
        "acc = history.history['accuracy']\n",
        "loss = history.history['loss']\n",
        "\n",
        "epochs_range = range(50)\n",
        "\n",
        "plt.figure(figsize=(10, 10))\n",
        "plt.subplot(2, 2, 1)\n",
        "plt.plot(epochs_range, acc, label='Training Accuracy')\n",
        "plt.legend(loc='lower right')\n",
        "plt.title('Training Accuracy')\n",
        "plt.subplot(2, 2, 2)\n",
        "plt.plot(epochs_range, loss, label='Training Loss')\n",
        "plt.title('Training Loss')\n",
        "plt.show()\n"
      ],
      "metadata": {
        "id": "aZ8gnpUZBtcL",
        "outputId": "6eb424cd-ee04-4c56-8c6a-c052781432e4",
        "colab": {
          "base_uri": "https://localhost:8080/",
          "height": 433
        }
      },
      "id": "aZ8gnpUZBtcL",
      "execution_count": 45,
      "outputs": [
        {
          "output_type": "display_data",
          "data": {
            "text/plain": [
              "<Figure size 1000x1000 with 2 Axes>"
            ],
            "image/png": "[encoded data removed]"
          },
          "metadata": {}
        }
      ]
    },
    {
      "cell_type": "markdown",
      "id": "b9988737",
      "metadata": {
        "id": "b9988737"
      },
      "source": [
        "    • E2 - Testing the models in the dataset. You must implement code routines to test the predictive ability \n",
        "      of your models using half of each dataset intended for testing. The model trained in city A must be tested \n",
        "      in city A. The model trained in city B must be tested in city B. Use the evaluation \n",
        "      metrics (accuracy, F1-score, AUC, etc) that are most appropriate for your problem. Plot graphs that illustrate\n",
        "      the results obtained for each city (A and B). Plot visual examples of correctly (true positive) and \n",
        "      incorrectly (false positive) classified samples.\n"
      ]
    },
    {
      "cell_type": "markdown",
      "source": [
        "#### Testing glasgow model"
      ],
      "metadata": {
        "id": "MQSf04rVlmQG"
      },
      "id": "MQSf04rVlmQG"
    },
    {
      "cell_type": "markdown",
      "source": [
        "##### Using Confusion metrix, Accuracy and F1 score as asn evaluation metrics"
      ],
      "metadata": {
        "id": "GaZSgnnPlxuI"
      },
      "id": "GaZSgnnPlxuI"
    },
    {
      "cell_type": "code",
      "execution_count": 46,
      "id": "ffb89722",
      "metadata": {
        "id": "ffb89722",
        "colab": {
          "base_uri": "https://localhost:8080/"
        },
        "outputId": "6d7412b4-2973-459f-bc6a-5a70d2db00d5"
      },
      "outputs": [
        {
          "output_type": "stream",
          "name": "stdout",
          "text": [
            "7/7 [==============================] - 4s 531ms/step\n"
          ]
        }
      ],
      "source": [
        "glasgow_pred=glasgow_model.predict(glasgow_x_test)"
      ]
    },
    {
      "cell_type": "code",
      "source": [
        "threshold = 0.5\n",
        "glasgow_y_pred = np.where(glasgow_pred >= threshold, 1, 0)\n",
        "glasgow_ac = accuracy_score(glasgow_y_test, glasgow_y_pred)\n",
        "glasgow_f1 = f1_score(glasgow_y_test, glasgow_y_pred)\n",
        "print(\"Accuracy: \", glasgow_ac*100)\n",
        "print(\"F1 Score: \", glasgow_f1*100)"
      ],
      "metadata": {
        "colab": {
          "base_uri": "https://localhost:8080/"
        },
        "id": "kC5bzfi9l3Ss",
        "outputId": "ee497685-f463-4aa4-d637-f3bca1ff6273"
      },
      "id": "kC5bzfi9l3Ss",
      "execution_count": 47,
      "outputs": [
        {
          "output_type": "stream",
          "name": "stdout",
          "text": [
            "Accuracy:  92.5\n",
            "F1 Score:  92.82296650717704\n"
          ]
        }
      ]
    },
    {
      "cell_type": "code",
      "source": [
        "skplt.metrics.plot_confusion_matrix(glasgow_y_test, glasgow_y_pred, normalize=False, title = 'Confusion Matrix for glasgow model')"
      ],
      "metadata": {
        "colab": {
          "base_uri": "https://localhost:8080/",
          "height": 489
        },
        "id": "SU9xP9b-l8VA",
        "outputId": "9829fb56-fb19-4ac4-86a1-53b9fdf56ea3"
      },
      "id": "SU9xP9b-l8VA",
      "execution_count": 48,
      "outputs": [
        {
          "output_type": "execute_result",
          "data": {
            "text/plain": [
              "<Axes: title={'center': 'Confusion Matrix for glasgow model'}, xlabel='Predicted label', ylabel='True label'>"
            ]
          },
          "metadata": {},
          "execution_count": 48
        },
        {
          "output_type": "display_data",
          "data": {
            "text/plain": [
              "<Figure size 640x480 with 2 Axes>"
            ],
            "image/png": "[encoded data removed]"
          },
          "metadata": {}
        }
      ]
    },
    {
      "cell_type": "markdown",
      "source": [
        "#### Testing stirling model"
      ],
      "metadata": {
        "id": "jdGmMVQxnVvX"
      },
      "id": "jdGmMVQxnVvX"
    },
    {
      "cell_type": "markdown",
      "source": [
        "##### Using Confusion metrix, Accuracy and F1 score as asn evaluation metrics"
      ],
      "metadata": {
        "id": "uCOZrznFndQY"
      },
      "id": "uCOZrznFndQY"
    },
    {
      "cell_type": "code",
      "source": [
        "stirling_pred=stirling_model.predict(stirling_x_test)"
      ],
      "metadata": {
        "colab": {
          "base_uri": "https://localhost:8080/"
        },
        "id": "qR0nsbFdmiCW",
        "outputId": "a45b82ee-0418-4df0-dbd1-656683663c95"
      },
      "id": "qR0nsbFdmiCW",
      "execution_count": 49,
      "outputs": [
        {
          "output_type": "stream",
          "name": "stdout",
          "text": [
            "7/7 [==============================] - 4s 539ms/step\n"
          ]
        }
      ]
    },
    {
      "cell_type": "code",
      "source": [
        "threshold = 0.5\n",
        "stirling_y_pred = np.where(stirling_pred >= threshold, 1, 0)\n",
        "stirling_ac = accuracy_score(stirling_y_test, stirling_y_pred)\n",
        "stirling_f1 = f1_score(stirling_y_test, stirling_y_pred)\n",
        "print(\"Accuracy: \", stirling_ac*100)\n",
        "print(\"F1 Score: \", stirling_f1*100)"
      ],
      "metadata": {
        "id": "1AnlLS7OnjNR",
        "outputId": "b59f8c20-9e2c-4455-dccc-ec5a56e30804",
        "colab": {
          "base_uri": "https://localhost:8080/"
        }
      },
      "id": "1AnlLS7OnjNR",
      "execution_count": 50,
      "outputs": [
        {
          "output_type": "stream",
          "name": "stdout",
          "text": [
            "Accuracy:  90.5\n",
            "F1 Score:  90.64039408866995\n"
          ]
        }
      ]
    },
    {
      "cell_type": "code",
      "source": [
        "skplt.metrics.plot_confusion_matrix(stirling_y_test, stirling_y_pred, normalize=False, title = 'Confusion Matrix for Stirling model')"
      ],
      "metadata": {
        "id": "PaZAhJBannr1",
        "outputId": "bd3d1947-0434-44e1-c455-ef0adfe6b07d",
        "colab": {
          "base_uri": "https://localhost:8080/",
          "height": 489
        }
      },
      "id": "PaZAhJBannr1",
      "execution_count": 51,
      "outputs": [
        {
          "output_type": "execute_result",
          "data": {
            "text/plain": [
              "<Axes: title={'center': 'Confusion Matrix for Stirling model'}, xlabel='Predicted label', ylabel='True label'>"
            ]
          },
          "metadata": {},
          "execution_count": 51
        },
        {
          "output_type": "display_data",
          "data": {
            "text/plain": [
              "<Figure size 640x480 with 2 Axes>"
            ],
            "image/png": "[encoded data removed]"
          },
          "metadata": {}
        }
      ]
    },
    {
      "cell_type": "markdown",
      "id": "d3e308dc",
      "metadata": {
        "id": "d3e308dc"
      },
      "source": [
        "    • E3 - Testing the models crossing datasets. Here you must do exactly the same as in E2, but now training in \n",
        "      one city and testing in the other. The model trained in city A must be tested in city B. The model trained \n",
        "      in city B must be tested in city A. Use the same metrics and plot the same types of graphs so that results \n",
        "      are comparable.\n"
      ]
    },
    {
      "cell_type": "markdown",
      "source": [
        "#### Testing glasgow model with stirling data"
      ],
      "metadata": {
        "id": "_vTMyV5sudgb"
      },
      "id": "_vTMyV5sudgb"
    },
    {
      "cell_type": "code",
      "execution_count": 52,
      "id": "38ba65ba",
      "metadata": {
        "id": "38ba65ba",
        "colab": {
          "base_uri": "https://localhost:8080/"
        },
        "outputId": "e208b58f-a8a6-40bd-e2bf-319932473058"
      },
      "outputs": [
        {
          "output_type": "stream",
          "name": "stdout",
          "text": [
            "7/7 [==============================] - 5s 749ms/step\n"
          ]
        }
      ],
      "source": [
        "glasgow_pred_stirling=glasgow_model.predict(stirling_x_test)"
      ]
    },
    {
      "cell_type": "code",
      "source": [
        "threshold = 0.5\n",
        "glasgow_y_pred_stirling = np.where(glasgow_pred_stirling >= threshold, 1, 0)\n",
        "glasgow_ac = accuracy_score(stirling_y_test, glasgow_y_pred_stirling)\n",
        "glasgow_f1 = f1_score(stirling_y_test, glasgow_y_pred_stirling)\n",
        "print(\"Accuracy: \", glasgow_ac*100)\n",
        "print(\"F1 Score: \", glasgow_f1*100)"
      ],
      "metadata": {
        "colab": {
          "base_uri": "https://localhost:8080/"
        },
        "id": "7Tx8pDF_unY3",
        "outputId": "6b84349f-03ee-4d8b-d5bd-4e667f654dac"
      },
      "id": "7Tx8pDF_unY3",
      "execution_count": 53,
      "outputs": [
        {
          "output_type": "stream",
          "name": "stdout",
          "text": [
            "Accuracy:  91.0\n",
            "F1 Score:  91.2621359223301\n"
          ]
        }
      ]
    },
    {
      "cell_type": "code",
      "source": [
        "skplt.metrics.plot_confusion_matrix(stirling_y_test, glasgow_y_pred_stirling, normalize=False, title = 'Confusion Matrix for glasgow model with stirling dataset')"
      ],
      "metadata": {
        "colab": {
          "base_uri": "https://localhost:8080/",
          "height": 489
        },
        "id": "wTBqkehbur6Z",
        "outputId": "67fbc452-d454-445b-a68a-560b7bb8fd56"
      },
      "id": "wTBqkehbur6Z",
      "execution_count": 54,
      "outputs": [
        {
          "output_type": "execute_result",
          "data": {
            "text/plain": [
              "<Axes: title={'center': 'Confusion Matrix for glasgow model with stirling dataset'}, xlabel='Predicted label', ylabel='True label'>"
            ]
          },
          "metadata": {},
          "execution_count": 54
        },
        {
          "output_type": "display_data",
          "data": {
            "text/plain": [
              "<Figure size 640x480 with 2 Axes>"
            ],
            "image/png": "[encoded data removed]"
          },
          "metadata": {}
        }
      ]
    },
    {
      "cell_type": "markdown",
      "source": [
        "#### Testing stirling model with glasgow data"
      ],
      "metadata": {
        "id": "CuEfykQF1lst"
      },
      "id": "CuEfykQF1lst"
    },
    {
      "cell_type": "code",
      "source": [
        "stirling_pred_glasgow = stirling_model.predict(glasgow_x_test)"
      ],
      "metadata": {
        "colab": {
          "base_uri": "https://localhost:8080/"
        },
        "id": "3ffhSD48uw0R",
        "outputId": "4f138c9f-3676-42eb-dcbb-e5ba66ab8710"
      },
      "id": "3ffhSD48uw0R",
      "execution_count": 55,
      "outputs": [
        {
          "output_type": "stream",
          "name": "stdout",
          "text": [
            "7/7 [==============================] - 5s 621ms/step\n"
          ]
        }
      ]
    },
    {
      "cell_type": "code",
      "source": [
        "threshold = 0.5\n",
        "stirling_y_pred_glasgow = np.where(stirling_pred_glasgow  >= threshold, 1, 0)\n",
        "stirling_ac = accuracy_score(glasgow_y_test, stirling_y_pred_glasgow)\n",
        "stirling_f1 = f1_score(glasgow_y_test, stirling_y_pred_glasgow)\n",
        "print(\"Accuracy: \", stirling_ac*100)\n",
        "print(\"F1 Score: \", stirling_f1*100)\n"
      ],
      "metadata": {
        "id": "clnfLkMC1pdo",
        "outputId": "6de49de4-f8f3-4067-fc34-f3e6a2b2ec0a",
        "colab": {
          "base_uri": "https://localhost:8080/"
        }
      },
      "id": "clnfLkMC1pdo",
      "execution_count": 56,
      "outputs": [
        {
          "output_type": "stream",
          "name": "stdout",
          "text": [
            "Accuracy:  93.0\n",
            "F1 Score:  92.92929292929293\n"
          ]
        }
      ]
    },
    {
      "cell_type": "code",
      "source": [
        "skplt.metrics.plot_confusion_matrix(glasgow_y_test, stirling_y_pred_glasgow, normalize=False, title = 'Confusion Matrix for stirling model with glasgow dataset')"
      ],
      "metadata": {
        "id": "Mh8s-Hky1sZY",
        "outputId": "68a223ad-c58a-4e23-fc8f-d172e07b7434",
        "colab": {
          "base_uri": "https://localhost:8080/",
          "height": 489
        }
      },
      "id": "Mh8s-Hky1sZY",
      "execution_count": 57,
      "outputs": [
        {
          "output_type": "execute_result",
          "data": {
            "text/plain": [
              "<Axes: title={'center': 'Confusion Matrix for stirling model with glasgow dataset'}, xlabel='Predicted label', ylabel='True label'>"
            ]
          },
          "metadata": {},
          "execution_count": 57
        },
        {
          "output_type": "display_data",
          "data": {
            "text/plain": [
              "<Figure size 640x480 with 2 Axes>"
            ],
            "image/png": "[encoded data removed]"
          },
          "metadata": {}
        }
      ]
    },
    {
      "cell_type": "markdown",
      "id": "55e56102",
      "metadata": {
        "id": "55e56102"
      },
      "source": [
        "### 7. Quiz and Report\n",
        "Answer the assessment quiz that will be made available on Canvas one week before the final deadline.\n",
        "Make a 2-page latex report using the <a href='https://www.overleaf.com/project/63ebb36e5745843af380351f'>IEEE template</a> with a maximum of 1000 words. Your report\n",
        "should contain five sections: introduction, description of the proposed solution with justifications,\n",
        "results (here you can include the same graphs and pictures generated in this jupyter notebook),\n",
        "discussion of the results, and conclusion. Properly cite references to articles, tutorials, and sources\n",
        "used. A pdf version of your report should be made available in the project’s github repository\n",
        "under the name ”[project name] + _final_report.pdf”.\n"
      ]
    },
    {
      "cell_type": "markdown",
      "id": "8fb5ab07",
      "metadata": {
        "id": "8fb5ab07"
      },
      "source": [
        "### 8. Demonstration\n",
        "Some projects (around 10%) will be selected for a mandatory demonstration. During the demo, you\n",
        "will be asked about implementation details and decisions that led to the design of the developed\n",
        "solution."
      ]
    },
    {
      "cell_type": "code",
      "execution_count": null,
      "id": "ea4e1924",
      "metadata": {
        "id": "ea4e1924"
      },
      "outputs": [],
      "source": []
    }
  ],
  "metadata": {
    "colab": {
      "provenance": [],
      "toc_visible": true
    },
    "kernelspec": {
      "display_name": "Python 3 (ipykernel)",
      "language": "python",
      "name": "python3"
    },
    "language_info": {
      "codemirror_mode": {
        "name": "ipython",
        "version": 3
      },
      "file_extension": ".py",
      "mimetype": "text/x-python",
      "name": "python",
      "nbconvert_exporter": "python",
      "pygments_lexer": "ipython3",
      "version": "3.11.1"
    }
  },
  "nbformat": 4,
  "nbformat_minor": 5
}